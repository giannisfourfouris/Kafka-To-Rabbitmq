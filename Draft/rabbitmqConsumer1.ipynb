{
 "cells": [
  {
   "cell_type": "code",
   "execution_count": 1,
   "metadata": {},
   "outputs": [],
   "source": [
    "%run Utils.ipynb"
   ]
  },
  {
   "cell_type": "code",
   "execution_count": 2,
   "metadata": {},
   "outputs": [
    {
     "name": "stdout",
     "output_type": "stream",
     "text": [
      " [*] Waiting for messages. To exit press CTRL+C\n",
      " [x] Received {\n",
      "    \"ID\": \"9EB0759E-7E2C-4788-8FD6-B559E5FC8FCF\",\n",
      "    \"ORIGINATETIMESTAMP\": null,\n",
      "    \"TIMESTAMP\": \"638502487186203236\",\n",
      "    \"HOST\": \"V00001A118\",\n",
      "    \"SERVICENAME\": \"/CONFIRMATIONDOCUMENT/CONFIRMATIONDOCUMENT/GETPENDINGAPPROVALAPPLICATIONS\",\n",
      "    \"TYPE\": \"FEA0B12B-3E86-4B91-9873-C47F9FA256DF\",\n",
      "    \"APPLICATION\": \"47991506-2629-4016-976E-3BBBA7A39BB4\",\n",
      "    \"EXECUTIONTIME\": \"5863762\",\n",
      "    \"CLIENTSESSION\": \"EC083002A471285BA254B17EB0E36FC75F3B606D\",\n",
      "    \"CLIENTUSERNAME\": \"E85010\",\n",
      "    \"CLIENTCUSTOMER\": null,\n",
      "    \"CLIENTIPADRESS\": null,\n",
      "    \"CLIENTDETAILS\": null,\n",
      "    \"CLIENTREQUESTPATH\": \"/CONFIRMATIONDOCUMENT/CONFIRMATIONDOCUMENT/GETPENDINGAPPROVALAPPLICATIONS\",\n",
      "    \"CLIENTLONGITUDE\": null,\n",
      "    \"CLIENTLATITUDE\": null,\n",
      "    \"CLIENTEXECUTIONTIME\": null,\n",
      "    \"BRANCHCODE\": \"914\",\n",
      "    \"COMPUTERNAME\": \"V091400417\",\n",
      "    \"ACCOUNT\": null,\n",
      "    \"OPCLASS\": null,\n",
      "    \"OPCODE\": null,\n",
      "    \"SYSTEM\": null,\n",
      "    \"UICODE\": null,\n",
      "    \"WEBHOST\": \"10.34.240.253\",\n",
      "    \"COMPLETEDTRANSACTION\": \"true\",\n",
      "    \"EXTRADATA\": null\n",
      "}\n"
     ]
    }
   ],
   "source": [
    "rabbitMqConsumer(queue_name='sample')"
   ]
  },
  {
   "cell_type": "code",
   "execution_count": null,
   "metadata": {},
   "outputs": [],
   "source": []
  }
 ],
 "metadata": {
  "kernelspec": {
   "display_name": "Python 3",
   "language": "python",
   "name": "python3"
  },
  "language_info": {
   "codemirror_mode": {
    "name": "ipython",
    "version": 3
   },
   "file_extension": ".py",
   "mimetype": "text/x-python",
   "name": "python",
   "nbconvert_exporter": "python",
   "pygments_lexer": "ipython3",
   "version": "3.10.12"
  }
 },
 "nbformat": 4,
 "nbformat_minor": 2
}
