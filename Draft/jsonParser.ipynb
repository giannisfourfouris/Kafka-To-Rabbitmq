{
 "cells": [
  {
   "cell_type": "code",
   "execution_count": 1,
   "metadata": {},
   "outputs": [],
   "source": [
    "%run Utils.ipynb"
   ]
  },
  {
   "cell_type": "code",
   "execution_count": 2,
   "metadata": {},
   "outputs": [
    {
     "name": "stdout",
     "output_type": "stream",
     "text": [
      "data1: 68\n",
      "data2: 1000\n",
      "data3: 1000\n",
      "data: 2068\n"
     ]
    }
   ],
   "source": [
    "dataFilePath1 = 'sampleData/sample1.json'\n",
    "data1 = loadJson(dataFilePath1)\n",
    "print(f'data1: {len(data1)}')\n",
    "\n",
    "dataFilePath2 = 'sampleData/sample2.json'\n",
    "data2 = loadJson(dataFilePath2)\n",
    "print(f'data2: {len(data2)}')\n",
    "\n",
    "dataFilePath3 = 'sampleData/sample3.json'\n",
    "data3 = loadJson(dataFilePath3)\n",
    "print(f'data3: {len(data3)}')\n",
    "\n",
    "data = [*data1, *data2, *data3]\n",
    "print(f'data: {len(data)}')"
   ]
  },
  {
   "cell_type": "code",
   "execution_count": 3,
   "metadata": {},
   "outputs": [],
   "source": [
    "listWithValues = []\n",
    "for element in data:\n",
    "    key = element['key']\n",
    "    value = element['value']\n",
    "    listWithValues.append((key,value))"
   ]
  },
  {
   "cell_type": "code",
   "execution_count": 4,
   "metadata": {},
   "outputs": [
    {
     "data": {
      "text/plain": [
       "2068"
      ]
     },
     "execution_count": 4,
     "metadata": {},
     "output_type": "execute_result"
    }
   ],
   "source": [
    "len(listWithValues)"
   ]
  },
  {
   "cell_type": "code",
   "execution_count": 5,
   "metadata": {},
   "outputs": [
    {
     "data": {
      "text/plain": [
       "226"
      ]
     },
     "execution_count": 5,
     "metadata": {},
     "output_type": "execute_result"
    }
   ],
   "source": [
    "serviceNameList = []\n",
    "for key, value in listWithValues:\n",
    "    serviceName = value['SERVICENAME']\n",
    "    if serviceName not in serviceNameList:\n",
    "        serviceNameList.append(serviceName)\n",
    "\n",
    "len(serviceNameList)"
   ]
  },
  {
   "cell_type": "code",
   "execution_count": 6,
   "metadata": {},
   "outputs": [],
   "source": [
    "# Define the file path where you want to save the JSON data\n",
    "filePath = \"sampleData/totalSampleData.json\"\n",
    "\n",
    "# Open the file in write mode and use json.dump() to write the list of dictionaries to the file\n",
    "with open(filePath, 'w') as jsonFile:\n",
    "    json.dump(listWithValues, jsonFile, indent=4)"
   ]
  },
  {
   "cell_type": "code",
   "execution_count": 7,
   "metadata": {},
   "outputs": [],
   "source": [
    "listWithValuesNoJson = [(x, filterNonJsonValues(y)) for x, y in listWithValues]"
   ]
  },
  {
   "cell_type": "code",
   "execution_count": 8,
   "metadata": {},
   "outputs": [],
   "source": [
    "# Define the file path where you want to save the JSON data\n",
    "filePath = \"sampleData/totalCuratedSampleData.json\"\n",
    "\n",
    "# Open the file in write mode and use json.dump() to write the list of dictionaries to the file\n",
    "with open(filePath, 'w') as jsonFile:\n",
    "    json.dump(listWithValuesNoJson, jsonFile, indent=4)"
   ]
  },
  {
   "cell_type": "code",
   "execution_count": null,
   "metadata": {},
   "outputs": [],
   "source": []
  }
 ],
 "metadata": {
  "kernelspec": {
   "display_name": "Python 3",
   "language": "python",
   "name": "python3"
  },
  "language_info": {
   "codemirror_mode": {
    "name": "ipython",
    "version": 3
   },
   "file_extension": ".py",
   "mimetype": "text/x-python",
   "name": "python",
   "nbconvert_exporter": "python",
   "pygments_lexer": "ipython3",
   "version": "3.10.12"
  }
 },
 "nbformat": 4,
 "nbformat_minor": 2
}
