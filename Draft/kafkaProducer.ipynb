{
 "cells": [
  {
   "cell_type": "code",
   "execution_count": null,
   "metadata": {},
   "outputs": [],
   "source": [
    "# pip install pika==1.3.2\n",
    "# pip install confluent-kafka==2.4.0"
   ]
  },
  {
   "cell_type": "code",
   "execution_count": null,
   "metadata": {},
   "outputs": [],
   "source": [
    "%run Utils.ipynb"
   ]
  },
  {
   "cell_type": "code",
   "execution_count": null,
   "metadata": {},
   "outputs": [],
   "source": [
    "from confluent_kafka import Producer\n",
    "import socket"
   ]
  },
  {
   "cell_type": "code",
   "execution_count": null,
   "metadata": {},
   "outputs": [],
   "source": [
    "# Define the file path where the JSON data is stored\n",
    "filePath = \"sampleData/totalSampleData.json\"\n",
    "\n",
    "# Read the JSON data\n",
    "data = loadJson(filePath)\n",
    "\n",
    "# Print the data\n",
    "print(\"Data loaded from\", filePath)\n",
    "print(len(data))"
   ]
  },
  {
   "cell_type": "code",
   "execution_count": null,
   "metadata": {},
   "outputs": [],
   "source": [
    "# conf = {'bootstrap.servers': 'pkc-abcd85.us-west-2.aws.confluent.cloud:9092',\n",
    "#         'security.protocol': 'SASL_SSL',\n",
    "#         'sasl.mechanism': 'PLAIN',\n",
    "#         'sasl.username': '<CLUSTER_API_KEY>',\n",
    "#         'sasl.password': '<CLUSTER_API_SECRET>',\n",
    "#         'client.id': socket.gethostname()}\n",
    "\n",
    "conf = {'bootstrap.servers': 'localhost:9092',\n",
    "        'client.id': socket.gethostname()}\n",
    "\n",
    "producer = Producer(conf)"
   ]
  },
  {
   "cell_type": "code",
   "execution_count": null,
   "metadata": {},
   "outputs": [],
   "source": [
    "topic = 'myTopic'\n",
    "threshold = 2\n",
    "\n",
    "produceKafkaMessages(producer, topic, data, threshold)"
   ]
  },
  {
   "cell_type": "code",
   "execution_count": null,
   "metadata": {},
   "outputs": [],
   "source": []
  }
 ],
 "metadata": {
  "kernelspec": {
   "display_name": "Python 3 (ipykernel)",
   "language": "python",
   "name": "python3"
  },
  "language_info": {
   "codemirror_mode": {
    "name": "ipython",
    "version": 3
   },
   "file_extension": ".py",
   "mimetype": "text/x-python",
   "name": "python",
   "nbconvert_exporter": "python",
   "pygments_lexer": "ipython3",
   "version": "3.10.12"
  }
 },
 "nbformat": 4,
 "nbformat_minor": 2
}
