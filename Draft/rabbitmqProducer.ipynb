{
 "cells": [
  {
   "cell_type": "code",
   "execution_count": null,
   "metadata": {},
   "outputs": [],
   "source": [
    "%run Utils.ipynb"
   ]
  },
  {
   "cell_type": "code",
   "execution_count": 23,
   "metadata": {},
   "outputs": [
    {
     "name": "stdout",
     "output_type": "stream",
     "text": [
      " [x] Sent 0\n",
      " [x] Sent 1\n",
      " [x] Sent 2\n",
      " [x] Sent 3\n",
      " [x] Sent 4\n",
      " [x] Sent 5\n",
      " [x] Sent 6\n",
      " [x] Sent 7\n",
      " [x] Sent 8\n",
      " [x] Sent 9\n"
     ]
    }
   ],
   "source": [
    "for i in range(10):\n",
    "    sendMessageToQueue(f'{i}')"
   ]
  },
  {
   "cell_type": "code",
   "execution_count": 2,
   "metadata": {},
   "outputs": [
    {
     "name": "stdout",
     "output_type": "stream",
     "text": [
      " [x] Sent {\n",
      "    \"name\": \"John Doe\",\n",
      "    \"age\": 30,\n",
      "    \"city\": \"New York\",\n",
      "    \"email\": \"john.doe@example.com\",\n",
      "    \"is_active\": true,\n",
      "    \"hobbies\": [\n",
      "        \"reading\",\n",
      "        \"hiking\",\n",
      "        \"photography\"\n",
      "    ],\n",
      "    \"address\": {\n",
      "        \"street\": \"123 Main St\",\n",
      "        \"city\": \"New York\",\n",
      "        \"zipcode\": \"10001\"\n",
      "    }\n",
      "}\n"
     ]
    }
   ],
   "source": [
    "import json\n",
    "\n",
    "# Sample data\n",
    "data = {\n",
    "    \"name\": \"John Doe\",\n",
    "    \"age\": 30,\n",
    "    \"city\": \"New York\",\n",
    "    \"email\": \"john.doe@example.com\",\n",
    "    \"is_active\": True,\n",
    "    \"hobbies\": [\"reading\", \"hiking\", \"photography\"],\n",
    "    \"address\": {\n",
    "        \"street\": \"123 Main St\",\n",
    "        \"city\": \"New York\",\n",
    "        \"zipcode\": \"10001\"\n",
    "    }\n",
    "}\n",
    "\n",
    "# Convert data to JSON\n",
    "json_data = json.dumps(data, indent=4)\n",
    "\n",
    "sendMessageToQueue(json_data)"
   ]
  },
  {
   "cell_type": "code",
   "execution_count": null,
   "metadata": {},
   "outputs": [],
   "source": []
  }
 ],
 "metadata": {
  "kernelspec": {
   "display_name": "Python 3",
   "language": "python",
   "name": "python3"
  },
  "language_info": {
   "codemirror_mode": {
    "name": "ipython",
    "version": 3
   },
   "file_extension": ".py",
   "mimetype": "text/x-python",
   "name": "python",
   "nbconvert_exporter": "python",
   "pygments_lexer": "ipython3",
   "version": "3.10.12"
  }
 },
 "nbformat": 4,
 "nbformat_minor": 2
}
