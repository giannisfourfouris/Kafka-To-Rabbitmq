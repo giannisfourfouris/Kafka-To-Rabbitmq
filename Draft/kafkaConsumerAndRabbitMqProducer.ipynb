{
 "cells": [
  {
   "cell_type": "code",
   "execution_count": 2,
   "metadata": {},
   "outputs": [
    {
     "name": "stdout",
     "output_type": "stream",
     "text": [
      "Requirement already satisfied: pyyaml in ./venv/lib/python3.10/site-packages (6.0.1)\n",
      "Note: you may need to restart the kernel to use updated packages.\n"
     ]
    }
   ],
   "source": [
    "pip install pyyaml"
   ]
  },
  {
   "cell_type": "code",
   "execution_count": 3,
   "metadata": {},
   "outputs": [],
   "source": [
    "%run Utils.ipynb"
   ]
  },
  {
   "cell_type": "code",
   "execution_count": null,
   "metadata": {},
   "outputs": [],
   "source": [
    "from confluent_kafka import Consumer"
   ]
  },
  {
   "cell_type": "code",
   "execution_count": null,
   "metadata": {},
   "outputs": [],
   "source": [
    "# conf = {'bootstrap.servers': 'pkc-abcd85.us-west-2.aws.confluent.cloud:9092',\n",
    "#         'security.protocol': 'SASL_SSL',\n",
    "#         'sasl.mechanism': 'PLAIN',\n",
    "#         'sasl.username': '<CLUSTER_API_KEY>',\n",
    "#         'sasl.password': '<CLUSTER_API_SECRET>',\n",
    "#         'group.id': 'foo',\n",
    "#         'auto.offset.reset': 'smallest'}\n",
    "\n",
    "conf = {'bootstrap.servers': 'localhost:9092',\n",
    "        'group.id': 'foo',\n",
    "        'enable.auto.commit': 'true',\n",
    "        'auto.offset.reset': 'earliest'}\n",
    "\n",
    "consumer = Consumer(conf)"
   ]
  },
  {
   "cell_type": "code",
   "execution_count": null,
   "metadata": {},
   "outputs": [],
   "source": [
    "serviceTopicMapping = {\n",
    "    \"/CONFIRMATIONDOCUMENT/CONFIRMATIONDOCUMENT/GETPENDINGAPPROVALAPPLICATIONS\": \"sample\",\n",
    "    \"/CORPORATE/CORPORATECRM/GETUSERINFO\": \"sample1\",\n",
    "    \"Default\": \"defaultQueue\"\n",
    "}"
   ]
  },
  {
   "cell_type": "code",
   "execution_count": 5,
   "metadata": {},
   "outputs": [],
   "source": [
    "# Subscribe to the Kafka topic\n",
    "topic = 'myTopic'\n",
    "batchSize = 2\n",
    "timeout = 1\n",
    "\n",
    "consumeAndProcessKafkaMessages(consumer, topic, serviceTopicMapping, batchSize, timeout)"
   ]
  },
  {
   "cell_type": "code",
   "execution_count": null,
   "metadata": {},
   "outputs": [],
   "source": []
  }
 ],
 "metadata": {
  "kernelspec": {
   "display_name": "Python 3 (ipykernel)",
   "language": "python",
   "name": "python3"
  }
 },
 "nbformat": 4,
 "nbformat_minor": 2
}
